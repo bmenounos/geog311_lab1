{
 "cells": [
  {
   "cell_type": "markdown",
   "metadata": {},
   "source": [
    "# Geography 311, Laboratory 1\n",
    "\n",
    "## objectives and learning outcomes\n",
    "\n",
    "Today's laboratory exercise will introduce you to the Python, a powerful programming language that we'll use throughout the first half of the course. It is my hope that you will continue to find Python useful for your other courses as UNBC and in the years ahead as a professional. \n",
    "\n",
    "\n",
    "## 1. Introduction to Python\n",
    "\n",
    "[Python](https://www.python.org/) is a popular, easy-to-learn computer language that supports simple and powerful types of data analysis in the earth and evironmental sciences. One of the fundamental tenents of Python is that its code is easy to read and understand. Python is a high-level computing language that can be used to perform simple tasks and those that require massive parallel computing. The language is used by thousands of companies and government agencies including [NASA](https://code.nasa.gov/).\n",
    "\n",
    "Python is is similar to other computer languages that you might have heard about such as [Matlab](https://www.mathworks.com/products/matlab.html) or [R](https://cran.r-project.org/).\n",
    "Unlike [C](https://en.wikipedia.org/wiki/C_(programming_language)) or [Fortran](https://en.wikipedia.org/wiki/Fortran), Python is compiled at runtime meaning that code development is much more rapid. \n",
    "\n",
    "Python is also open source which means that all of its code is freely available, can be duplicated or modified without fear of punishment, and can be modified to suite ones' needs. The primary advantages of open source software is twofold: \n",
    "\n",
    "1. it allows peer review of proposed algorithms (i.e. make sure algorithms are robust) and; \n",
    "2. thousands of people can contribute (develop) packages for it.\n",
    "\n",
    "These two points allow for a powerful, mostly bug-free language. Where Python really shines is in the analysis of large, complex geospatial datasets.   \n",
    "\n",
    "\n",
    "## 2. Anaconda and Notebooks as a way to use Python \n",
    "\n",
    "As mentioned above, the value of Python is that there are many thousands of individual packages written by others for data analysis and visualization. To ease you into the use of Python, this course will use a collection of Python packages provided by [Continuum Analytics](https://www.continuum.io/downloads). \n",
    "\n",
    "Download [miniconda](http://conda.pydata.org/miniconda.html) depending on your operating system that you have on your own computer. Alternatively the computers in the laboratory should already have anaconda installed on them. Now from the command line let's ensure that we have access to some required Python packages that we'll use today:\n",
    "\n",
    "* conda install scipy matplotlib jupyter pandas netcdf4 statsmodels \n",
    "\n",
    "Once these packages have been installed we can run Python directly, but to make things more interactive, we'll use [Jupyter notebooks](http://jupyter.org/), an elegant way to mix instructional material with hands-on data analysis. \n",
    "\n",
    "### Run notebook for this laboratory exercise\n",
    "\n",
    "Go ahead and download all the materials we'll need for the lab today. \n",
    "\n",
    "Web version can be accesed from the github repository.\n",
    "You can download them as a .zip file in the link below:\n",
    "\n",
    "[lab1 materials](https://github.com/bmenounos/geog311_lab1/archive/master.zip)\n",
    "\n",
    "Save this file to a folder on your own computer and then unzip it and cd into it.\n",
    "\n",
    "Once you are there you can run the lab1 as a notebook:\n",
    "\n",
    "**cd geog311_lab1-master/**\n",
    "\n",
    "And run the following command from the command prompt:\n",
    "\n",
    "**jupyter notebook**\n",
    "\n",
    "\n",
    "What should happen now is that jupyter will load a notebook into a web browser. Go ahead and click on the 'geog311_lab1.ipynb' file you see in the screen. You now have an active workbook running in your web browser. \n",
    "\n",
    "## 3. Resources for data analysis with Python \n",
    " \n",
    "It's probably easiest for you to learn about what Python can do by reading some of the tutorials written as notebooks. Some examples of these are below. I encourage you to spend some time looking at these to get a feel for what you can do with Python in terms of data analysis:\n",
    "\n",
    "* [notebooks for visualization and plotting](https://github.com/ipython/ipython/wiki/A-gallery-of-interesting-IPython-Notebooks#data-visualization-and-plotting)\n",
    "\n",
    "* [tutorial for Pandas](http://pandas.pydata.org/pandas-docs/stable/10min.html#min)\n",
    "\n",
    "* [gallery for useful notebooks](http://nb.bianp.net/sort/views/)\n",
    "\n",
    "* [general cheat sheet for Python](https://s3.amazonaws.com/assets.datacamp.com/blog_assets/PythonForDataScience.pdf)\n",
    "\n",
    "\n",
    "## 4. Get your feet wet and your hands dirty\n",
    "\n",
    "Now that you've had a chance to see what can be down with Python and its associated packages it's time to work with our own data. Assuming that you've already installed the associated anaconda packages and downloaded associated files as described above, proceed as follows:\n",
    "\n",
    "1. You should have started this notebook in the 'geog311_lab1-master' directory. If you haven't close it, go to that directory and type 'jupyter notebook' at the command line.\n",
    "\n",
    "2.  Let's now look at some data. The first step will be to load the Pandas and Numpy data analysis packages for data analysis and read a tab delimited text file into Python.\n"
   ]
  },
  {
   "cell_type": "code",
   "execution_count": 6,
   "metadata": {
    "collapsed": false
   },
   "outputs": [],
   "source": [
    "## This is code bock in a Jupyter workbook. Any commands (comments) not \n",
    "## interpreted by Python are\n",
    "## denoted with a pound sign (#) before them. \n",
    "import pandas as pd\n",
    "import numpy as np\n",
    "import matplotlib.pyplot as plt\n",
    "import matplotlib\n",
    "matplotlib.style.use('ggplot')"
   ]
  },
  {
   "cell_type": "code",
   "execution_count": 7,
   "metadata": {
    "collapsed": false
   },
   "outputs": [],
   "source": [
    "## we are going to read in the file and assign it to the object 'avs'\n",
    "avs = pd.read_csv('rock_avalanches.txt', delimiter = '\\t')"
   ]
  },
  {
   "cell_type": "markdown",
   "metadata": {},
   "source": [
    "The nice thing about Python is that you can get help about most commands. Type 'help(pd.read_csv)' on the line below and see what happens. In all subsequent comments remember to drop the quotes before you type these. "
   ]
  },
  {
   "cell_type": "code",
   "execution_count": 8,
   "metadata": {
    "collapsed": false
   },
   "outputs": [],
   "source": [
    "## type help(pd.read_csv) below this line and execute the code by clicking the 'play' button \n",
    "## below the Menu word 'Cell'"
   ]
  },
  {
   "cell_type": "markdown",
   "metadata": {},
   "source": [
    "The data set are variables measured for rock avalanches in various lithologies. The variables in the file are rock avalanche names, bedrock type, slope $^{\\circ}$, volume [V] $1.0 \\cdot 10^{6} m^{3}$, landslide length [L] and change in elevation [H] of the failed material. The dimensions L and H are in meters. To see the data type 'print(avs)' below.   "
   ]
  },
  {
   "cell_type": "code",
   "execution_count": 9,
   "metadata": {
    "collapsed": false
   },
   "outputs": [
    {
     "name": "stdout",
     "output_type": "stream",
     "text": [
      "           Name    Rocks  alpha       V      L     H\n",
      "0          Pand   Gneiss    NaN     6.7   8600  2000\n",
      "1       Twin(E)   Carbon   25.0     7.0   4670   900\n",
      "2       Twin(W)   Carbon   25.0     7.0   4400   820\n",
      "3        Antron   Gneiss    NaN    12.0   4190  1650\n",
      "4        Huasca   Granio   75.0    13.0  15520  3600\n",
      "5       Sherman     Sand    NaN    13.3   5950  1080\n",
      "6       Triolet  Granite    NaN    18.0   6900  1860\n",
      "7       Steller  Granite   42.5    20.0   6700  1200\n",
      "8         Allen  Granite   50.0    23.0   7700  1300\n",
      "9          Fair  Granite   45.0    26.0  10000  3300\n",
      "10       Schwan  Granite   50.0    27.0   6100  1550\n",
      "11  Devastation     Volc    NaN    27.0   6100  1550\n",
      "12   Diablerets   Carbon    NaN    27.0   6100  1190\n",
      "13       Rubble     Volc   35.0    33.0   6900  1040\n",
      "14       Nozzle   Carbon   27.0    67.0   6420  1050\n",
      "15      Huasca2   Cranio   75.0    75.0  15600  3850\n",
      "16        Dusty     Volc   30.0     7.0   2490   970\n",
      "17          Elm    Slate   50.0    10.0   2300   600\n",
      "18        Sasso     Volc   60.0    16.0   1680   370\n",
      "19        Dnnov   Gneiss   35.0    18.5   1560   410\n",
      "20     Damocles   Carbon   17.0    27.0   3400   500\n",
      "21      Mystery  Diorite   30.0    35.0   4000  1250\n",
      "22       Goldau  Conglom   20.0    35.0   6100  1120\n",
      "23        Frank   Carbon   45.0    36.5   3290   800\n",
      "24       Ventre     Sand   20.0    38.0   4350   660\n",
      "25        Stalk  Clastic   30.0    53.0   3000   700\n",
      "26       Lavini   Carbon   20.0   200.0   5650  1170\n",
      "27      Granier   Carbon   12.0   210.0   7690  1520\n",
      "28       Silver   Marble    NaN   227.0   6670   760\n",
      "29    Blackhawk   Marble    NaN   283.0   9860  1100\n",
      "30     Martinez   Gneiss   30.0   380.0   8560  1850\n",
      "31      Maligne   Carbon   25.0   667.0   5470   980\n",
      "32   Mayunmarca     Sand   25.0  1600.0   8000  1800\n",
      "33   Costantino   Gneiss   25.0    20.0   2240   940\n",
      "34      Madison   Gneiss   30.0    28.0   1680   430\n",
      "35     Zandilla  Diorite   35.0    40.0   3950  1390\n",
      "36         Hope     Volc   30.0    47.0   4240  1220\n",
      "37       Triple   Carbon   15.0    47.0   3970   550\n",
      "38       Parpan   Carbon    NaN   400.0   6550  1340\n"
     ]
    }
   ],
   "source": [
    "## type print(avs) below this line\n",
    "print(avs)"
   ]
  },
  {
   "cell_type": "markdown",
   "metadata": {},
   "source": [
    "Items that you make in Python are called objects. Objects are created by using the equal sign. For example,"
   ]
  },
  {
   "cell_type": "code",
   "execution_count": 10,
   "metadata": {
    "collapsed": true
   },
   "outputs": [],
   "source": [
    "a = 5 "
   ]
  },
  {
   "cell_type": "markdown",
   "metadata": {},
   "source": [
    "makes an object called 'a' and assigns the value 5 to it.  Unlike most western languages, computers read from right to left. For example, the expression 'a = 5+1' adds 5+1 and assigns the result to an object called 'a'. What happens if you type '5+1 = a' below?\n"
   ]
  },
  {
   "cell_type": "code",
   "execution_count": null,
   "metadata": {
    "collapsed": true
   },
   "outputs": [],
   "source": []
  },
  {
   "cell_type": "markdown",
   "metadata": {},
   "source": [
    "An error is generated since you are trying to assign a variable to a number. The value of 'a' is now an object in Python's memory. Objects in Python are many but the most important are:\n",
    "\n",
    "Data type |  | Example\n",
    "--- | --- | ---\n",
    "Boolean | | **True or False** \n",
    "Numbers | |\n",
    "| integer | a = 1\n",
    "| float | pi = 3.14159\n",
    "| complex | z = 3j\n",
    "String | | slide_type = 'rotational'\n",
    "Lists | | data = [1,2,3,4]\n",
    "| mixed | data2 = ['a', 5, 'jelly']\n",
    "Arrays | | data3 = np.array([[1,2,3],[4,5,6]])\n",
    "\n",
    "There are many more data types than these, but these types will be used throughout the remainder of the tutorial. Operations in Python, like most programming languages, depend on the type of data you are using and what is is you seek to do. As an example let's make an object called 'ppt' which is the total daily rain [mm] recorded for a station over a number of days. We can now do a number of things to this object"
   ]
  },
  {
   "cell_type": "code",
   "execution_count": 11,
   "metadata": {
    "collapsed": false
   },
   "outputs": [],
   "source": [
    "ppt = np.array([0, 23.4, 45, 17, 2])"
   ]
  },
  {
   "cell_type": "markdown",
   "metadata": {},
   "source": [
    "What happens when you type 'ppt + 5' in the line below?"
   ]
  },
  {
   "cell_type": "code",
   "execution_count": 12,
   "metadata": {
    "collapsed": false
   },
   "outputs": [],
   "source": [
    "newppt = ppt * 2.0 \n",
    "\n",
    "## hello this is a note to myself the doofus\n"
   ]
  },
  {
   "cell_type": "markdown",
   "metadata": {},
   "source": [
    "Notice that Python didn't save this object you just made. In order to do that you'd need to assign the result ( ppt = ppt + 5).\n",
    "\n",
    "We can change the first element in the array from zero to 50 by 'ppt[0] = 50'. You can also find the average or standard deviation of the array this way:\n",
    "\n",
    "'ppt.avg()' or ppt.std(). what does 'ppt.cumsum()' do?"
   ]
  },
  {
   "cell_type": "code",
   "execution_count": 13,
   "metadata": {
    "collapsed": false
   },
   "outputs": [
    {
     "data": {
      "text/plain": [
       "array([  0. ,  23.4,  68.4,  85.4,  87.4])"
      ]
     },
     "execution_count": 13,
     "metadata": {},
     "output_type": "execute_result"
    }
   ],
   "source": [
    "#ppt.mean()\n",
    "##ppt.std()\n",
    "ppt.cumsum()"
   ]
  },
  {
   "cell_type": "markdown",
   "metadata": {},
   "source": [
    "Computers are dumb machines. They are literal beasts and don't deal with typographic erorrs. For example, if you create an object called 'stress'\n",
    " \n",
    "stress = 789  \n",
    "\n",
    "stress = stress + 1000  will yield a value of 1789 while \n",
    "\n",
    "stress = Stress + 1000 will yield an error \n",
    "\n",
    "Let's return to our rock avalanche dataset and do some analysis on those data. First, let's summarize the variables described earlier. type 'avs.describe() in the cell below and see what happens.\n"
   ]
  },
  {
   "cell_type": "code",
   "execution_count": null,
   "metadata": {
    "collapsed": false
   },
   "outputs": [],
   "source": []
  },
  {
   "cell_type": "markdown",
   "metadata": {},
   "source": [
    "One of Python's real strengths is its ability to make simple and fairly complex graphs. Many of these graphs can be made directly from Pandas data frame objects (our object 'avs' is one) or from the excellent package 'Matplotlib'. Spend some time looking at the types of graphs you can make with Matplotlib and Python by visiting the [Matplotlib Gallery](http://matplotlib.org/gallery.html).\n",
    "\n",
    "Another package that we'll use thoughout this course is called numpy. It allows one to do complex numerial analysis.\n",
    "\n",
    "* [Follow me](http://www.scipy-lectures.org/) for lecture notes about how to use numpy and Python for general scientific computing.  \n",
    "\n",
    "Let's examine whether the landslide sample we are working with is normally distributed ? One way to check this would be to make a simple histogram.\n"
   ]
  },
  {
   "cell_type": "code",
   "execution_count": 14,
   "metadata": {
    "collapsed": false
   },
   "outputs": [
    {
     "data": {
      "image/png": "[encoded data removed]",
      "text/plain": [
       "<matplotlib.figure.Figure at 0x112bcbb00>"
      ]
     },
     "metadata": {},
     "output_type": "display_data"
    }
   ],
   "source": [
    "## we first set up a figure with Matplotlib and then make a histogram \n",
    "## by calling a special function for this in pandas. \n",
    "plt.figure()\n",
    "avs['V'].hist(bins=5)\n",
    "plt.title('Histogram of Landslide Volume')\n",
    "plt.xlabel('Volume [1.0 x 10$^{6}$ m$^{3}$]')\n",
    "plt.ylabel('Frequency')\n",
    "## we can save this figure in a number of different formats. I've\n",
    "## chosen to save it as as pdf file.\n",
    "plt.savefig('hist_example.pdf', resolution=600)\n",
    "plt.show()"
   ]
  },
  {
   "cell_type": "markdown",
   "metadata": {},
   "source": [
    "Are these data normally  distributed (i.e. bell-shaped histogram) ? Let's see what a normal distribution would look like. "
   ]
  },
  {
   "cell_type": "code",
   "execution_count": 15,
   "metadata": {
    "collapsed": false
   },
   "outputs": [
    {
     "data": {
      "image/png": "[encoded data removed]",
      "text/plain": [
       "<matplotlib.figure.Figure at 0x115a2fcc0>"
      ]
     },
     "metadata": {},
     "output_type": "display_data"
    },
    {
     "data": {
      "image/png": "[encoded data removed]",
      "text/plain": [
       "<matplotlib.figure.Figure at 0x112c06390>"
      ]
     },
     "metadata": {},
     "output_type": "display_data"
    }
   ],
   "source": [
    "plt.figure();\n",
    "## make an array of random values (mean and std equal to our own data)\n",
    "data = np.random.normal(avs['V'].mean(), avs['V'].std(), len(avs))\n",
    "plt.hist(data, bins=5, color='purple')\n",
    "plt.title('Normal distribution')\n",
    "#plt.xlabel('Volume [1.0 x 10$^{6}$ m$^{3}$]')\n",
    "plt.ylabel('Frequency')\n",
    "#plt.savefig('hist_example2.pdf', resolution=600)\n",
    "plt.show()\n",
    "\n",
    "## how about 1,000,000 values?\n",
    "\n",
    "plt.figure();\n",
    "## make an array of random values (mean and std equal to our own data)\n",
    "data = np.random.normal(avs['V'].mean(), avs['V'].std(), 1000000)\n",
    "plt.hist(data, bins=500, color='purple')\n",
    "plt.title('Normal distribution')\n",
    "#plt.xlabel('Volume [1.0 x 10$^{6}$ m$^{3}$]')\n",
    "plt.ylabel('Frequency')\n",
    "#plt.savefig('hist_example2.pdf', resolution=600)\n",
    "plt.show()\n"
   ]
  },
  {
   "cell_type": "markdown",
   "metadata": {},
   "source": [
    "Don't worry about x values for this graph but rather in its shape. What is clear is that our landslide data is heavily skewed fewer larger landslides. Many geophysical phenomena are log normally distributed. We can see this if we log transform our data like this."
   ]
  },
  {
   "cell_type": "code",
   "execution_count": 16,
   "metadata": {
    "collapsed": false
   },
   "outputs": [
    {
     "data": {
      "image/png": "[encoded data removed]",
      "text/plain": [
       "<matplotlib.figure.Figure at 0x115a2f160>"
      ]
     },
     "metadata": {},
     "output_type": "display_data"
    }
   ],
   "source": [
    "log_vol  = np.log(avs['V'])\n",
    "plt.figure();\n",
    "log_vol.hist(bins=5)\n",
    "plt.title('Histogram of Landslide Volume')\n",
    "plt.xlabel('Logged volume [1.0 x 10$^{6}$ m$^{3}$]')\n",
    "plt.ylabel('Frequency')\n",
    "plt.savefig('hist_example_logged.pdf', resolution=600)\n",
    "plt.show()"
   ]
  },
  {
   "cell_type": "markdown",
   "metadata": {},
   "source": [
    "## Linear Models in Python \n",
    "\n",
    "A linear relation implies that functional relation between two variables \n",
    "can be explained as a simple proportion. That is variable y is related \n",
    "to x multiplied by a constant (slope) plus an additional second constant \n",
    "(the y intercept).\n",
    "\n",
    "\\begin{equation} \n",
    "y = \\beta~x+\\textbf{const}\n",
    "\\end{equation} \n",
    "\n",
    "Is there a linear relation between landslide run out length and height?"
   ]
  },
  {
   "cell_type": "code",
   "execution_count": 17,
   "metadata": {
    "collapsed": false
   },
   "outputs": [
    {
     "data": {
      "image/png": "[encoded data removed]",
      "text/plain": [
       "<matplotlib.figure.Figure at 0x115a3a1d0>"
      ]
     },
     "metadata": {},
     "output_type": "display_data"
    }
   ],
   "source": [
    "plt.figure();\n",
    "plt.plot(avs['L'], avs['H'], 'b+')\n",
    "plt.title('Landslide run out length versus fall height')\n",
    "plt.xlabel('Length [m]')\n",
    "plt.ylabel('Height [m]')\n",
    "plt.savefig('Landslide_H_L_example.pdf', resolution=600)\n",
    "plt.show()"
   ]
  },
  {
   "cell_type": "markdown",
   "metadata": {},
   "source": [
    "What is the strength of the relation (Pearson correlation coefficient)? We will import a function 'pearsonr' from the module scipy stats to test this. Also, we'll import another Python module 'statmodel'. Details about what this module can do can be found [here](http://statsmodels.sourceforge.net/)."
   ]
  },
  {
   "cell_type": "code",
   "execution_count": 24,
   "metadata": {
    "collapsed": false
   },
   "outputs": [
    {
     "data": {
      "text/html": [
       "<div>\n",
       "<table border=\"1\" class=\"dataframe\">\n",
       "  <thead>\n",
       "    <tr style=\"text-align: right;\">\n",
       "      <th></th>\n",
       "      <th>alpha</th>\n",
       "      <th>V</th>\n",
       "      <th>L</th>\n",
       "      <th>H</th>\n",
       "    </tr>\n",
       "  </thead>\n",
       "  <tbody>\n",
       "    <tr>\n",
       "      <th>alpha</th>\n",
       "      <td>1.000000</td>\n",
       "      <td>-0.202049</td>\n",
       "      <td>0.510042</td>\n",
       "      <td>0.578386</td>\n",
       "    </tr>\n",
       "    <tr>\n",
       "      <th>V</th>\n",
       "      <td>-0.202049</td>\n",
       "      <td>1.000000</td>\n",
       "      <td>0.182770</td>\n",
       "      <td>0.088931</td>\n",
       "    </tr>\n",
       "    <tr>\n",
       "      <th>L</th>\n",
       "      <td>0.510042</td>\n",
       "      <td>0.182770</td>\n",
       "      <td>1.000000</td>\n",
       "      <td>0.870185</td>\n",
       "    </tr>\n",
       "    <tr>\n",
       "      <th>H</th>\n",
       "      <td>0.578386</td>\n",
       "      <td>0.088931</td>\n",
       "      <td>0.870185</td>\n",
       "      <td>1.000000</td>\n",
       "    </tr>\n",
       "  </tbody>\n",
       "</table>\n",
       "</div>"
      ],
      "text/plain": [
       "          alpha         V         L         H\n",
       "alpha  1.000000 -0.202049  0.510042  0.578386\n",
       "V     -0.202049  1.000000  0.182770  0.088931\n",
       "L      0.510042  0.182770  1.000000  0.870185\n",
       "H      0.578386  0.088931  0.870185  1.000000"
      ]
     },
     "execution_count": 24,
     "metadata": {},
     "output_type": "execute_result"
    }
   ],
   "source": [
    "from scipy.stats import pearsonr\n",
    "import statsmodels.api as sm\n",
    "## and now let's calculate the correlation \n",
    "pearsonr(avs['L'], avs['H'])"
   ]
  },
  {
   "cell_type": "markdown",
   "metadata": {},
   "source": [
    "So landslide length and fall height are strongly correlated (r=0.87) and the correlation is highly significant (p < 0.05). \n",
    "\n",
    "Let's now consider developing a simple model to explain the loss of potential energy ($PE=mgH$) for a given landslide. Landslide mass (kg) could be determined if we know the bulk density of the deposit (kg$\\cdot$m$^{-3}$) and the volume (m$^{3}$). We also need to determine the vertical distance drop (H) of the landslide. For many  landslides we can not determine H, but if there was an empirical relation between  landslide length (L) and height (H), perhaps we could simply measure L and derive H from the empirical (statistical) model. \n",
    "\n",
    "We first need to determine the relation between landslide length and height:\n",
    "\n",
    "\\begin{equation}\n",
    "H = L \\cdot \\beta + \\textbf{const}\n",
    "\\end{equation}\n",
    " \n",
    "where $\\beta$ is the slope and **const** is the y-intercept."
   ]
  },
  {
   "cell_type": "code",
   "execution_count": 28,
   "metadata": {
    "collapsed": false
   },
   "outputs": [
    {
     "name": "stdout",
     "output_type": "stream",
     "text": [
      "                            OLS Regression Results                            \n",
      "==============================================================================\n",
      "Dep. Variable:                      H   R-squared:                       0.757\n",
      "Model:                            OLS   Adj. R-squared:                  0.751\n",
      "Method:                 Least Squares   F-statistic:                     115.4\n",
      "Date:                Mon, 09 Jan 2017   Prob (F-statistic):           6.28e-13\n",
      "Time:                        13:07:54   Log-Likelihood:                -287.59\n",
      "No. Observations:                  39   AIC:                             579.2\n",
      "Df Residuals:                      37   BIC:                             582.5\n",
      "Df Model:                           1                                         \n",
      "Covariance Type:            nonrobust                                         \n",
      "==============================================================================\n",
      "                 coef    std err          t      P>|t|      [95.0% Conf. Int.]\n",
      "------------------------------------------------------------------------------\n",
      "const         21.8389    134.129      0.163      0.872      -249.932   293.610\n",
      "L              0.2167      0.020     10.743      0.000         0.176     0.258\n",
      "==============================================================================\n",
      "Omnibus:                        3.371   Durbin-Watson:                   1.702\n",
      "Prob(Omnibus):                  0.185   Jarque-Bera (JB):                2.604\n",
      "Skew:                           0.158   Prob(JB):                        0.272\n",
      "Kurtosis:                       4.226   Cond. No.                     1.41e+04\n",
      "==============================================================================\n",
      "\n",
      "Warnings:\n",
      "[1] Standard Errors assume that the covariance matrix of the errors is correctly specified.\n",
      "[2] The condition number is large, 1.41e+04. This might indicate that there are\n",
      "strong multicollinearity or other numerical problems.\n"
     ]
    }
   ],
   "source": [
    "X = avs['L']\n",
    "## we need to add a second column of ones to add a constant to our model\n",
    "X = sm.add_constant(X)\n",
    "model = sm.OLS(avs['H'], X)\n",
    "results = model.fit()\n",
    "resid = results.resid\n",
    "print(results.summary())"
   ]
  },
  {
   "cell_type": "markdown",
   "metadata": {},
   "source": [
    "The fit is ok but not perfect. We can also examine the residuals from our model, that is, the deviations between our empirical data and model fitted to them. A good model is one in which there are no obvious patterns in the residuals. How does our model do? "
   ]
  },
  {
   "cell_type": "code",
   "execution_count": 104,
   "metadata": {
    "collapsed": false
   },
   "outputs": [
    {
     "data": {
      "image/png": "[encoded data removed]",
      "text/plain": [
       "<matplotlib.figure.Figure at 0x122f56e10>"
      ]
     },
     "metadata": {},
     "output_type": "display_data"
    }
   ],
   "source": [
    "plt.figure()\n",
    "plt.plot(resid, 'g+')\n",
    "plt.xlabel('Index')\n",
    "plt.ylabel('Redidual from fit')\n",
    "plt.show()"
   ]
  },
  {
   "cell_type": "markdown",
   "metadata": {},
   "source": [
    "## 5. Assignment (due next Monday, 16 January) \n",
    "\n",
    "### 5.1 Landslide data from Mars (10 points)\n",
    "\n",
    "Consider the morphometric characteristics of shallow landslides from Mars ('Valles\\_marineris.txt'). The data consists of mean fall height of the material (H: km), the ratio of height to runout length (L: km), volume (V: km$^{3}$), area (A: km$^{2}$), depth of the deposit at its toe (D: m), and slope (S: degrees):\n",
    "\n",
    "1. Which variable is the best predictor (i.e. most highly correlated with landslide volume? Are these variables linearly or non-linearly related? Does the relation become better if you take the logarithms (log10() ) of the variables? \n",
    "\n",
    "  **note** explore what the function 'corr' does when used on a pandas frame (e.g.       avs.corr())\n",
    "  \n",
    "\n",
    "2. Using the log-transformed variables, develop a linear model to predict landslide volume from area.  Use your model to estimate the volume of a landslide that is 10,000 km$^{2}$ in area. \n",
    "\n",
    "3. Discuss the difference between extrapolation and interpolation. Discuss how these terms relate to the data of question 1."
   ]
  },
  {
   "cell_type": "markdown",
   "metadata": {},
   "source": [
    "### 5.2 Friction Angle and Large Rock Avalanches (20 Points)\n",
    " \n",
    "Geomorphologists have often been puzzled at the extremely long run out associated  with large ($> 1.0^{6}~~m^{3}$) rock avalanches. One hypothesis    proposes that the frictional resistance - approximated by the angle of internal friction ($\\phi$) decreases for large volume landslides. \n",
    "\n",
    "Python, like most computer languages, works in radians. To obtain the sine of 45 $^{\\circ}$ one multiplies 45 by $\\frac{pi}{180}$. To express a ratio (e.g. a slope) in degrees one needs take the arctangent of the number (e.g. $atan(\\frac{1}{2})$) and multiply this by $\\frac{180}{pi}$\n",
    "\n",
    "$\\phi$ is approximated by the ratio between the elevation drop of a landslide (its height) and the horizontal distance travelled (i.e. its length).  \n",
    "\n",
    "1. Determine whether the rock avalanche data that you used for the tutorial supports this  \n",
    "hypothesis. Express $\\phi$ in degrees and log both Volume and $\\phi$. \n",
    " \n",
    "2. Do the data from Mars support the hypothesis?\n",
    " \n",
    "3. What is the average length of a martian landslide?\n",
    "\n",
    "4. What is the average yield strength of a martian landslide? \n",
    "    - **Note**: Yield strength [K] can be approximated from K = [$\\rho\\cdot D \\cdot g \\cdot \\sin \\beta$] where $\\rho$ is the density of martian colluvium (2000 $kg \\cdot m^{-3}$), g is the acceleration due to gravity (3.72 $m \\cdot s^{-2}$ for Mars), D is the deposit thickness (m), and $\\beta$ is the ground slope. Ensure you provide the correct units for yield strength (i.e. what are the units for K?).  \n",
    "\n",
    "You may wish to display your data as log-log plots. Have a look [here](http://matplotlib.org/examples/pylab_examples/log_demo.html) for how to make a log-log plot in Python.\n",
    "\n",
    "\n",
    "### 5.3 Causative factors of global landslides (20 points)\n",
    "\n",
    "As we will learn landslides are a type of rapid-mass movement that can originate from a variety of causative factors. Let's consider the global distribution of land where the risk of landslides is high. Those data and publications that describe that work can be found [here](http://sedac.ciesin.columbia.edu/data/set/ndh-landslide-hazard-distribution). \n",
    "\n",
    "Here's a copy of the [hazard map](https://github.com/bmenounos/geog311_lab1/blob/master/landslide_hazards.png)\n",
    "\n",
    "Let's explore whether there's an association between landslide hazard and terrain features such as elevation and precipitation. To do this we'll need to work with several types of data files that are used to store geospatial data and multidimensional data. We'll discuss more about those files later in the course. \n",
    "\n",
    "Let's now import digital elevation data and the maximum 1 day precipitation recorded globally for preciptation gauges and satellite observations between 1996-2009 described here. In this case we need to import a different type of file that is commonly used in environmental and earth sciences to store multi-dimensional data (such as pressure data from a climate model). Those types of files are known as NetCDF files and described here.\n",
    "\n",
    "The nice thing about these types of files is that, in addition to storing multi-dimensional data, they can also store information about the units associated with the data, attributes about the data themselves and also record changes to the data themselves.\n"
   ]
  },
  {
   "cell_type": "code",
   "execution_count": 26,
   "metadata": {
    "collapsed": false
   },
   "outputs": [
    {
     "ename": "NameError",
     "evalue": "name 'data1' is not defined",
     "output_type": "error",
     "traceback": [
      "\u001b[0;31m---------------------------------------------------------------------------\u001b[0m",
      "\u001b[0;31mNameError\u001b[0m                                 Traceback (most recent call last)",
      "\u001b[0;32m<ipython-input-26-95394529479e>\u001b[0m in \u001b[0;36m<module>\u001b[0;34m()\u001b[0m\n\u001b[1;32m     30\u001b[0m \u001b[0;31m## read in landslide datwa\u001b[0m\u001b[0;34m\u001b[0m\u001b[0;34m\u001b[0m\u001b[0m\n\u001b[1;32m     31\u001b[0m \u001b[0mdata3\u001b[0m    \u001b[0;34m=\u001b[0m \u001b[0mDataset\u001b[0m\u001b[0;34m(\u001b[0m\u001b[0mf_in3\u001b[0m\u001b[0;34m)\u001b[0m\u001b[0;34m\u001b[0m\u001b[0m\n\u001b[0;32m---> 32\u001b[0;31m \u001b[0mlhazard\u001b[0m  \u001b[0;34m=\u001b[0m \u001b[0mdata1\u001b[0m\u001b[0;34m[\u001b[0m\u001b[0;34m'Band1'\u001b[0m\u001b[0;34m]\u001b[0m\u001b[0;34m[\u001b[0m\u001b[0;34m:\u001b[0m\u001b[0;34m]\u001b[0m\u001b[0;34m.\u001b[0m\u001b[0msqueeze\u001b[0m\u001b[0;34m(\u001b[0m\u001b[0;34m)\u001b[0m\u001b[0;34m\u001b[0m\u001b[0m\n\u001b[0m\u001b[1;32m     33\u001b[0m \u001b[0;34m\u001b[0m\u001b[0m\n\u001b[1;32m     34\u001b[0m \u001b[0;31m## lslide data is upside down and needs to be flipped\u001b[0m\u001b[0;34m\u001b[0m\u001b[0;34m\u001b[0m\u001b[0m\n",
      "\u001b[0;31mNameError\u001b[0m: name 'data1' is not defined"
     ]
    }
   ],
   "source": [
    "## need to load a Python module to deal with netcdf data\n",
    "## don't worry about trying to learn everything below. \n",
    "## I'm putting alot in here to peak your \n",
    "## interest in what one can do with these types of files. \n",
    "\n",
    "## import the netcdf module \n",
    "from netCDF4 import Dataset\n",
    "\n",
    "## allows us to customize the scale bar \n",
    "from mpl_toolkits.axes_grid1 import make_axes_locatable\n",
    "\n",
    "\n",
    "## now let's load global elevation on a 1 degree grid and 1-day maximum precipitation\n",
    "f_in  = 'elev.1-deg.nc'    # elevation data\n",
    "f_in2 = 'GPCP_max_1day.nc' # 1 day ppt\n",
    "f_in3 = 'landslide_hazards.nc' #landslide hazards\n",
    "\n",
    "## read in elevation data\n",
    "data    = Dataset(f_in)\n",
    "elev    = data['data'][:].squeeze() * 1.0 ## collapse into a single 2d array\n",
    "\n",
    "## we won't use these for the lab today. \n",
    "lons    = data['lon']\n",
    "lats    = data['lat']\n",
    "\n",
    "## read in 1-day ppt\n",
    "data2   = Dataset(f_in2)\n",
    "ppt1day = data2['highest_one_day_precipitation_amount_per_time_period'][:].squeeze()\n",
    "\n",
    "## read in landslide datwa\n",
    "data3    = Dataset(f_in3)\n",
    "lhazard  = data1['Band1'][:].squeeze()\n",
    "\n",
    "## lslide data is upside down and needs to be flipped \n",
    "lhazard  = np.flipud(lhazard)\n",
    "\n",
    "\n",
    "## make a plot of elevation\n",
    "plt.figure()\n",
    "ax = plt.gca()\n",
    "im = ax.imshow(elev, extent=[-180,180,-90,90])\n",
    "plt.xlabel('Degrees longitude')\n",
    "plt.ylabel('Degrees Latitude')\n",
    "\n",
    "# create an axes on the right side of ax. The width of cax will be 5%\n",
    "# of ax and the padding between cax and ax will be fixed at 0.05 inch.\n",
    "divider = make_axes_locatable(ax)\n",
    "cax = divider.append_axes(\"right\", size=\"5%\", pad=0.05)\n",
    "plt.colorbar(im, cax=cax, label='Elevation [m asl]')\n",
    "plt.show()\n",
    "\n",
    "\n",
    "## make a plot of hazards\n",
    "## this uses the matplotlib function 'imshow'\n",
    "plt.figure()\n",
    "ax = plt.gca()\n",
    "im = ax.imshow(lhazard, extent=[-180,180,-90,90])\n",
    "plt.xlabel('Degrees longitude')\n",
    "plt.ylabel('Degrees Latitude')\n",
    "\n",
    "# create an axes on the right side of ax. The width of cax will be 5%\n",
    "# of ax and the padding between cax and ax will be fixed at 0.05 inch.\n",
    "divider = make_axes_locatable(ax)\n",
    "cax = divider.append_axes(\"right\", size=\"5%\", pad=0.05)\n",
    "plt.colorbar(im, cax=cax, label='landslide hazard')\n",
    "plt.show()\n",
    "\n"
   ]
  },
  {
   "cell_type": "code",
   "execution_count": 6,
   "metadata": {
    "collapsed": false,
    "scrolled": true
   },
   "outputs": [
    {
     "ename": "NameError",
     "evalue": "name 'ppt1day' is not defined",
     "output_type": "error",
     "traceback": [
      "\u001b[0;31m---------------------------------------------------------------------------\u001b[0m",
      "\u001b[0;31mNameError\u001b[0m                                 Traceback (most recent call last)",
      "\u001b[0;32m<ipython-input-6-dbbd8c6696b0>\u001b[0m in \u001b[0;36m<module>\u001b[0;34m()\u001b[0m\n\u001b[1;32m      1\u001b[0m \u001b[0;31m## disregard any data over the ocean. Do you understand what this line does?\u001b[0m\u001b[0;34m\u001b[0m\u001b[0;34m\u001b[0m\u001b[0m\n\u001b[0;32m----> 2\u001b[0;31m \u001b[0mppt1day\u001b[0m\u001b[0;34m[\u001b[0m\u001b[0melev\u001b[0m \u001b[0;34m<\u001b[0m \u001b[0;36m0\u001b[0m\u001b[0;34m]\u001b[0m \u001b[0;34m=\u001b[0m \u001b[0mnp\u001b[0m\u001b[0;34m.\u001b[0m\u001b[0mnan\u001b[0m\u001b[0;34m\u001b[0m\u001b[0m\n\u001b[0m\u001b[1;32m      3\u001b[0m \u001b[0mlhazard\u001b[0m\u001b[0;34m[\u001b[0m\u001b[0melev\u001b[0m \u001b[0;34m<\u001b[0m \u001b[0;36m0\u001b[0m\u001b[0;34m]\u001b[0m \u001b[0;34m=\u001b[0m \u001b[0mnp\u001b[0m\u001b[0;34m.\u001b[0m\u001b[0mnan\u001b[0m\u001b[0;34m\u001b[0m\u001b[0m\n\u001b[1;32m      4\u001b[0m \u001b[0melev\u001b[0m\u001b[0;34m[\u001b[0m\u001b[0melev\u001b[0m \u001b[0;34m<\u001b[0m \u001b[0;36m0\u001b[0m\u001b[0;34m]\u001b[0m    \u001b[0;34m=\u001b[0m \u001b[0mnp\u001b[0m\u001b[0;34m.\u001b[0m\u001b[0mnan\u001b[0m\u001b[0;34m\u001b[0m\u001b[0m\n\u001b[1;32m      5\u001b[0m \u001b[0;34m\u001b[0m\u001b[0m\n",
      "\u001b[0;31mNameError\u001b[0m: name 'ppt1day' is not defined"
     ]
    }
   ],
   "source": [
    "## disregard any data over the ocean. Do you understand what this line does?\n",
    "ppt1day[elev < 0] = np.nan\n",
    "lhazard[elev < 0] = np.nan\n",
    "elev[elev < 0]    = np.nan\n",
    "\n",
    "## need to change 2D data arrays into 1D (easy by using the ravel command)\n",
    "ppt1D     = ppt1day.ravel()\n",
    "elev1D    = elev.ravel()\n",
    "lhazard1D = lhazard.ravel()\n",
    "\n",
    "\n",
    "## make a pandas data frame\n",
    "df = {'ppt' : ppt1D,\n",
    "     'elev' : elev1D,\n",
    "      'hazard': lhazard1D\n",
    "     }\n",
    "\n",
    "data = pd.DataFrame(df)\n",
    "\n",
    "## drop all missing values row wise\n",
    "data2 = data.dropna(axis=0, how='any')\n",
    "\n",
    "print(data2.head())\n",
    "\n"
   ]
  },
  {
   "cell_type": "markdown",
   "metadata": {},
   "source": [
    "Questions to answer:\n",
    "\n",
    "* What is the relation between topography and 1-day precipitation?\n",
    "* Where are 1-day precipitation totals highest? Why are they here?\n",
    "* Is topography or 1-day precipitation a better predictor for landslide hazard?\n",
    "* What other factors could explain the global distribution of land susceptible \n",
    "    to landslides?\n",
    "    "
   ]
  },
  {
   "cell_type": "code",
   "execution_count": null,
   "metadata": {
    "collapsed": true
   },
   "outputs": [],
   "source": []
  },
  {
   "cell_type": "code",
   "execution_count": null,
   "metadata": {
    "collapsed": true
   },
   "outputs": [],
   "source": []
  }
 ],
 "metadata": {
  "kernelspec": {
   "display_name": "Python 3",
   "language": "python",
   "name": "python3"
  },
  "language_info": {
   "codemirror_mode": {
    "name": "ipython",
    "version": 3
   },
   "file_extension": ".py",
   "mimetype": "text/x-python",
   "name": "python",
   "nbconvert_exporter": "python",
   "pygments_lexer": "ipython3",
   "version": "3.4.5"
  }
 },
 "nbformat": 4,
 "nbformat_minor": 0
}
