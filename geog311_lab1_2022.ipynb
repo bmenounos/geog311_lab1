{
 "cells": [
  {
   "cell_type": "markdown",
   "metadata": {},
   "source": [
    "# UNIVERSITY OF NORTHERN BRITISH COLUMBIA \n",
    "# Geography 311\n",
    "# Drainage Basin Geomorphology (2022)\n",
    "# Laboratory 1\n",
    "\n",
    "## Objectives and learning outcomes\n",
    "\n",
    "Today's laboratory exercise will introduce you to the Python, a powerful programming language that we'll use throughout the first half of the course. It is my hope that you will continue to find Python useful for your other courses as UNBC and in the years ahead as a professional. \n",
    "\n",
    "\n",
    "## 1. Introduction to Python\n",
    "\n",
    "[Python](https://www.python.org/) is a popular, easy-to-learn computer language that supports simple and powerful types of data analysis in the earth and evironmental sciences. One of the fundamental tenents of Python is that its code is easy to read and understand. Python is a high-level computing language that can be used to perform simple tasks and those that require massive parallel computing. The language is used by thousands of companies and government agencies including [NASA](https://code.nasa.gov/).\n",
    "\n",
    "Python is is similar to other computer languages that you might have heard about such as [Matlab](https://www.mathworks.com/products/matlab.html) or [R](https://cran.r-project.org/).\n",
    "Unlike [C](https://en.wikipedia.org/wiki/C_(programming_language)) or [Fortran](https://en.wikipedia.org/wiki/Fortran), Python is compiled at runtime meaning that code development is much more rapid. \n",
    "\n",
    "Python is also open source which means that all of its code is freely available, can be duplicated or modified without fear of punishment, and can be modified to suite one's needs. The primary advantages of open source software is twofold: \n",
    "\n",
    "1. it allows peer review of proposed algorithms (i.e. make sure algorithms are robust) and; \n",
    "2. thousands of people can contribute (develop) packages for it.\n",
    "\n",
    "These two points allow for a powerful, mostly bug-free language. Where Python really shines is in the analysis of large, complex geospatial datasets.   \n",
    "\n",
    "\n",
    "## 2. Anaconda and Notebooks as a way to use Python \n",
    "\n",
    "As mentioned above, the value of Python is that there are many thousands of individual packages written by others for data analysis and visualization. To ease you into the use of Python, this course will use a collection of Python packages provided by [Continuum Analytics](https://www.continuum.io/downloads). \n",
    "\n",
    "Download [miniconda](http://conda.pydata.org/miniconda.html) depending on your operating system that you have on your own computer. Alternatively the computers in the laboratory should already have anaconda installed on them. Now from the command line let's ensure that we have access to some required Python packages that we'll use today:\n",
    "\n",
    "From the 'type here to search' bar in the lower left side of your screen (windows) open up an anaconda power shell and type:\n",
    "\n",
    "* conda install mamba -n base -c conda-forge\n",
    "\n",
    "This installs mamba, a very fast package manager that runs from within anaconda. \n",
    "\n",
    "If you are using a mac, then type the above command in a terminal shell. Once we've installed mamba then type:\n",
    "\n",
    "* mamba install scipy matplotlib jupyterlab pandas netcdf4 statsmodels -c conda-forge\n",
    "\n",
    "Once these packages have been installed we can run Python directly, but to make things more interactive, we'll use [Jupyter notebooks](http://jupyter.org/), an elegant way to mix instructional material with hands-on data analysis. \n",
    "\n",
    "### Run notebook for this laboratory exercise\n",
    "\n",
    "Go ahead and download all the materials we'll need for the lab today. \n",
    "\n",
    "Web version can be accesed from the github repository.\n",
    "You can download them as a .zip file in the link below:\n",
    "\n",
    "[lab1 materials](https://github.com/bmenounos/geog311_lab1/archive/master.zip)\n",
    "\n",
    "Save this file to a folder on your own computer and then unzip it and cd into it.\n",
    "\n",
    "Once you are there you can run the lab1 as a notebook:\n",
    "\n",
    "**cd geog311_lab1-master/**\n",
    "\n",
    "And run the following command from the command prompt:\n",
    "\n",
    "**jupyter-lab geog311_lab1_2022.ipynb**\n",
    "\n",
    "\n",
    "What should happen now is that jupyter will load the notebook into a web browser. You should now have an active workbook running in your web browser. \n",
    "\n",
    "## 3. Resources for data analysis with Python \n",
    " \n",
    "It's probably easiest for you to learn about what Python can do by reading some of the tutorials written as notebooks. Some examples of these are below. I encourage you to spend some time looking at these to get a feel for what you can do with Python in terms of data analysis:\n",
    "\n",
    "* [notebooks for visualization and plotting](https://github.com/ipython/ipython/wiki/A-gallery-of-interesting-IPython-Notebooks#data-visualization-and-plotting)\n",
    "\n",
    "* [tutorial for Pandas](http://pandas.pydata.org/pandas-docs/stable/10min.html#min)\n",
    "\n",
    "* [gallery for useful notebooks](http://nb.bianp.net/sort/views/)\n",
    "\n",
    "* [general cheat sheet for Python](https://s3.amazonaws.com/assets.datacamp.com/blog_assets/PythonForDataScience.pdf)\n",
    "\n",
    "\n",
    "## 4. Get your feet wet and your hands dirty\n",
    "\n",
    "Now that you've had a chance to see what can be down with Python and its associated packages it's time to work with our own data. Assuming that you've already installed the associated anaconda packages and downloaded associated files as described above, proceed as follows:\n",
    "\n",
    "1. You should have started this notebook in the 'geog311_lab1-master' directory. If you haven't close it, go to that directory and type 'jupyter notebook' at the command line.\n",
    "\n",
    "2.  Let's now look at some data. The first step will be to load the Pandas and Numpy data analysis packages for data analysis and read a tab delimited text file into Python.\n"
   ]
  },
  {
   "cell_type": "code",
   "execution_count": 1,
   "metadata": {
    "collapsed": false,
    "jupyter": {
     "outputs_hidden": false
    }
   },
   "outputs": [],
   "source": [
    "## This is code bock in a Jupyter workbook. Any commands (comments) not \n",
    "## interpreted by Python are\n",
    "## denoted with a pound or hashtag sign (#) before them. \n",
    "import pandas as pd\n",
    "import numpy as np\n",
    "import matplotlib.pyplot as plt\n",
    "import matplotlib"
   ]
  },
  {
   "cell_type": "code",
   "execution_count": 2,
   "metadata": {
    "collapsed": false,
    "jupyter": {
     "outputs_hidden": false
    }
   },
   "outputs": [],
   "source": [
    "## we are going to read in the file and assign it to the object 'avs'\n",
    "avs = pd.read_csv('rock_avalanches.txt', delimiter = '\\t')"
   ]
  },
  {
   "cell_type": "markdown",
   "metadata": {},
   "source": [
    "The nice thing about Python is that you can get help about most commands. Type 'help(pd.read_csv)' on the line below and see what happens. In all subsequent comments remember to drop the quotes before you type these. "
   ]
  },
  {
   "cell_type": "code",
   "execution_count": 3,
   "metadata": {
    "collapsed": false,
    "jupyter": {
     "outputs_hidden": false
    }
   },
   "outputs": [],
   "source": [
    "## type help(pd.read_csv) below this line and execute the code by clicking the 'play' button \n",
    "## below the Menu word 'Cell'"
   ]
  },
  {
   "cell_type": "markdown",
   "metadata": {},
   "source": [
    "The data set are variables measured for rock avalanches in various lithologies. The variables in the file are rock avalanche names, bedrock type, slope $^{\\circ}$, volume [V] $1.0 \\cdot 10^{6} m^{3}$, landslide length [L] and change in elevation [H] of the failed material. The dimensions L and H are in meters. To see the data type 'print(avs)' below.   "
   ]
  },
  {
   "cell_type": "code",
   "execution_count": 4,
   "metadata": {
    "collapsed": false,
    "jupyter": {
     "outputs_hidden": false
    }
   },
   "outputs": [
    {
     "data": {
      "text/html": [
       "<div>\n",
       "<style scoped>\n",
       "    .dataframe tbody tr th:only-of-type {\n",
       "        vertical-align: middle;\n",
       "    }\n",
       "\n",
       "    .dataframe tbody tr th {\n",
       "        vertical-align: top;\n",
       "    }\n",
       "\n",
       "    .dataframe thead th {\n",
       "        text-align: right;\n",
       "    }\n",
       "</style>\n",
       "<table border=\"1\" class=\"dataframe\">\n",
       "  <thead>\n",
       "    <tr style=\"text-align: right;\">\n",
       "      <th></th>\n",
       "      <th>Name</th>\n",
       "      <th>Rocks</th>\n",
       "      <th>alpha</th>\n",
       "      <th>V</th>\n",
       "      <th>L</th>\n",
       "      <th>H</th>\n",
       "    </tr>\n",
       "  </thead>\n",
       "  <tbody>\n",
       "    <tr>\n",
       "      <th>0</th>\n",
       "      <td>Pand</td>\n",
       "      <td>Gneiss</td>\n",
       "      <td>NaN</td>\n",
       "      <td>6.7</td>\n",
       "      <td>8600</td>\n",
       "      <td>2000</td>\n",
       "    </tr>\n",
       "    <tr>\n",
       "      <th>1</th>\n",
       "      <td>Twin(E)</td>\n",
       "      <td>Carbon</td>\n",
       "      <td>25.0</td>\n",
       "      <td>7.0</td>\n",
       "      <td>4670</td>\n",
       "      <td>900</td>\n",
       "    </tr>\n",
       "    <tr>\n",
       "      <th>2</th>\n",
       "      <td>Twin(W)</td>\n",
       "      <td>Carbon</td>\n",
       "      <td>25.0</td>\n",
       "      <td>7.0</td>\n",
       "      <td>4400</td>\n",
       "      <td>820</td>\n",
       "    </tr>\n",
       "    <tr>\n",
       "      <th>3</th>\n",
       "      <td>Antron</td>\n",
       "      <td>Gneiss</td>\n",
       "      <td>NaN</td>\n",
       "      <td>12.0</td>\n",
       "      <td>4190</td>\n",
       "      <td>1650</td>\n",
       "    </tr>\n",
       "    <tr>\n",
       "      <th>4</th>\n",
       "      <td>Huasca</td>\n",
       "      <td>Granio</td>\n",
       "      <td>75.0</td>\n",
       "      <td>13.0</td>\n",
       "      <td>15520</td>\n",
       "      <td>3600</td>\n",
       "    </tr>\n",
       "    <tr>\n",
       "      <th>5</th>\n",
       "      <td>Sherman</td>\n",
       "      <td>Sand</td>\n",
       "      <td>NaN</td>\n",
       "      <td>13.3</td>\n",
       "      <td>5950</td>\n",
       "      <td>1080</td>\n",
       "    </tr>\n",
       "    <tr>\n",
       "      <th>6</th>\n",
       "      <td>Triolet</td>\n",
       "      <td>Granite</td>\n",
       "      <td>NaN</td>\n",
       "      <td>18.0</td>\n",
       "      <td>6900</td>\n",
       "      <td>1860</td>\n",
       "    </tr>\n",
       "    <tr>\n",
       "      <th>7</th>\n",
       "      <td>Steller</td>\n",
       "      <td>Granite</td>\n",
       "      <td>42.5</td>\n",
       "      <td>20.0</td>\n",
       "      <td>6700</td>\n",
       "      <td>1200</td>\n",
       "    </tr>\n",
       "    <tr>\n",
       "      <th>8</th>\n",
       "      <td>Allen</td>\n",
       "      <td>Granite</td>\n",
       "      <td>50.0</td>\n",
       "      <td>23.0</td>\n",
       "      <td>7700</td>\n",
       "      <td>1300</td>\n",
       "    </tr>\n",
       "    <tr>\n",
       "      <th>9</th>\n",
       "      <td>Fair</td>\n",
       "      <td>Granite</td>\n",
       "      <td>45.0</td>\n",
       "      <td>26.0</td>\n",
       "      <td>10000</td>\n",
       "      <td>3300</td>\n",
       "    </tr>\n",
       "    <tr>\n",
       "      <th>10</th>\n",
       "      <td>Schwan</td>\n",
       "      <td>Granite</td>\n",
       "      <td>50.0</td>\n",
       "      <td>27.0</td>\n",
       "      <td>6100</td>\n",
       "      <td>1550</td>\n",
       "    </tr>\n",
       "    <tr>\n",
       "      <th>11</th>\n",
       "      <td>Devastation</td>\n",
       "      <td>Volc</td>\n",
       "      <td>NaN</td>\n",
       "      <td>27.0</td>\n",
       "      <td>6100</td>\n",
       "      <td>1550</td>\n",
       "    </tr>\n",
       "    <tr>\n",
       "      <th>12</th>\n",
       "      <td>Diablerets</td>\n",
       "      <td>Carbon</td>\n",
       "      <td>NaN</td>\n",
       "      <td>27.0</td>\n",
       "      <td>6100</td>\n",
       "      <td>1190</td>\n",
       "    </tr>\n",
       "    <tr>\n",
       "      <th>13</th>\n",
       "      <td>Rubble</td>\n",
       "      <td>Volc</td>\n",
       "      <td>35.0</td>\n",
       "      <td>33.0</td>\n",
       "      <td>6900</td>\n",
       "      <td>1040</td>\n",
       "    </tr>\n",
       "    <tr>\n",
       "      <th>14</th>\n",
       "      <td>Nozzle</td>\n",
       "      <td>Carbon</td>\n",
       "      <td>27.0</td>\n",
       "      <td>67.0</td>\n",
       "      <td>6420</td>\n",
       "      <td>1050</td>\n",
       "    </tr>\n",
       "    <tr>\n",
       "      <th>15</th>\n",
       "      <td>Huasca2</td>\n",
       "      <td>Cranio</td>\n",
       "      <td>75.0</td>\n",
       "      <td>75.0</td>\n",
       "      <td>15600</td>\n",
       "      <td>3850</td>\n",
       "    </tr>\n",
       "    <tr>\n",
       "      <th>16</th>\n",
       "      <td>Dusty</td>\n",
       "      <td>Volc</td>\n",
       "      <td>30.0</td>\n",
       "      <td>7.0</td>\n",
       "      <td>2490</td>\n",
       "      <td>970</td>\n",
       "    </tr>\n",
       "    <tr>\n",
       "      <th>17</th>\n",
       "      <td>Elm</td>\n",
       "      <td>Slate</td>\n",
       "      <td>50.0</td>\n",
       "      <td>10.0</td>\n",
       "      <td>2300</td>\n",
       "      <td>600</td>\n",
       "    </tr>\n",
       "    <tr>\n",
       "      <th>18</th>\n",
       "      <td>Sasso</td>\n",
       "      <td>Volc</td>\n",
       "      <td>60.0</td>\n",
       "      <td>16.0</td>\n",
       "      <td>1680</td>\n",
       "      <td>370</td>\n",
       "    </tr>\n",
       "    <tr>\n",
       "      <th>19</th>\n",
       "      <td>Dnnov</td>\n",
       "      <td>Gneiss</td>\n",
       "      <td>35.0</td>\n",
       "      <td>18.5</td>\n",
       "      <td>1560</td>\n",
       "      <td>410</td>\n",
       "    </tr>\n",
       "    <tr>\n",
       "      <th>20</th>\n",
       "      <td>Damocles</td>\n",
       "      <td>Carbon</td>\n",
       "      <td>17.0</td>\n",
       "      <td>27.0</td>\n",
       "      <td>3400</td>\n",
       "      <td>500</td>\n",
       "    </tr>\n",
       "    <tr>\n",
       "      <th>21</th>\n",
       "      <td>Mystery</td>\n",
       "      <td>Diorite</td>\n",
       "      <td>30.0</td>\n",
       "      <td>35.0</td>\n",
       "      <td>4000</td>\n",
       "      <td>1250</td>\n",
       "    </tr>\n",
       "    <tr>\n",
       "      <th>22</th>\n",
       "      <td>Goldau</td>\n",
       "      <td>Conglom</td>\n",
       "      <td>20.0</td>\n",
       "      <td>35.0</td>\n",
       "      <td>6100</td>\n",
       "      <td>1120</td>\n",
       "    </tr>\n",
       "    <tr>\n",
       "      <th>23</th>\n",
       "      <td>Frank</td>\n",
       "      <td>Carbon</td>\n",
       "      <td>45.0</td>\n",
       "      <td>36.5</td>\n",
       "      <td>3290</td>\n",
       "      <td>800</td>\n",
       "    </tr>\n",
       "    <tr>\n",
       "      <th>24</th>\n",
       "      <td>Ventre</td>\n",
       "      <td>Sand</td>\n",
       "      <td>20.0</td>\n",
       "      <td>38.0</td>\n",
       "      <td>4350</td>\n",
       "      <td>660</td>\n",
       "    </tr>\n",
       "    <tr>\n",
       "      <th>25</th>\n",
       "      <td>Stalk</td>\n",
       "      <td>Clastic</td>\n",
       "      <td>30.0</td>\n",
       "      <td>53.0</td>\n",
       "      <td>3000</td>\n",
       "      <td>700</td>\n",
       "    </tr>\n",
       "    <tr>\n",
       "      <th>26</th>\n",
       "      <td>Lavini</td>\n",
       "      <td>Carbon</td>\n",
       "      <td>20.0</td>\n",
       "      <td>200.0</td>\n",
       "      <td>5650</td>\n",
       "      <td>1170</td>\n",
       "    </tr>\n",
       "    <tr>\n",
       "      <th>27</th>\n",
       "      <td>Granier</td>\n",
       "      <td>Carbon</td>\n",
       "      <td>12.0</td>\n",
       "      <td>210.0</td>\n",
       "      <td>7690</td>\n",
       "      <td>1520</td>\n",
       "    </tr>\n",
       "    <tr>\n",
       "      <th>28</th>\n",
       "      <td>Silver</td>\n",
       "      <td>Marble</td>\n",
       "      <td>NaN</td>\n",
       "      <td>227.0</td>\n",
       "      <td>6670</td>\n",
       "      <td>760</td>\n",
       "    </tr>\n",
       "    <tr>\n",
       "      <th>29</th>\n",
       "      <td>Blackhawk</td>\n",
       "      <td>Marble</td>\n",
       "      <td>NaN</td>\n",
       "      <td>283.0</td>\n",
       "      <td>9860</td>\n",
       "      <td>1100</td>\n",
       "    </tr>\n",
       "    <tr>\n",
       "      <th>30</th>\n",
       "      <td>Martinez</td>\n",
       "      <td>Gneiss</td>\n",
       "      <td>30.0</td>\n",
       "      <td>380.0</td>\n",
       "      <td>8560</td>\n",
       "      <td>1850</td>\n",
       "    </tr>\n",
       "    <tr>\n",
       "      <th>31</th>\n",
       "      <td>Maligne</td>\n",
       "      <td>Carbon</td>\n",
       "      <td>25.0</td>\n",
       "      <td>667.0</td>\n",
       "      <td>5470</td>\n",
       "      <td>980</td>\n",
       "    </tr>\n",
       "    <tr>\n",
       "      <th>32</th>\n",
       "      <td>Mayunmarca</td>\n",
       "      <td>Sand</td>\n",
       "      <td>25.0</td>\n",
       "      <td>1600.0</td>\n",
       "      <td>8000</td>\n",
       "      <td>1800</td>\n",
       "    </tr>\n",
       "    <tr>\n",
       "      <th>33</th>\n",
       "      <td>Costantino</td>\n",
       "      <td>Gneiss</td>\n",
       "      <td>25.0</td>\n",
       "      <td>20.0</td>\n",
       "      <td>2240</td>\n",
       "      <td>940</td>\n",
       "    </tr>\n",
       "    <tr>\n",
       "      <th>34</th>\n",
       "      <td>Madison</td>\n",
       "      <td>Gneiss</td>\n",
       "      <td>30.0</td>\n",
       "      <td>28.0</td>\n",
       "      <td>1680</td>\n",
       "      <td>430</td>\n",
       "    </tr>\n",
       "    <tr>\n",
       "      <th>35</th>\n",
       "      <td>Zandilla</td>\n",
       "      <td>Diorite</td>\n",
       "      <td>35.0</td>\n",
       "      <td>40.0</td>\n",
       "      <td>3950</td>\n",
       "      <td>1390</td>\n",
       "    </tr>\n",
       "    <tr>\n",
       "      <th>36</th>\n",
       "      <td>Hope</td>\n",
       "      <td>Volc</td>\n",
       "      <td>30.0</td>\n",
       "      <td>47.0</td>\n",
       "      <td>4240</td>\n",
       "      <td>1220</td>\n",
       "    </tr>\n",
       "    <tr>\n",
       "      <th>37</th>\n",
       "      <td>Triple</td>\n",
       "      <td>Carbon</td>\n",
       "      <td>15.0</td>\n",
       "      <td>47.0</td>\n",
       "      <td>3970</td>\n",
       "      <td>550</td>\n",
       "    </tr>\n",
       "    <tr>\n",
       "      <th>38</th>\n",
       "      <td>Parpan</td>\n",
       "      <td>Carbon</td>\n",
       "      <td>NaN</td>\n",
       "      <td>400.0</td>\n",
       "      <td>6550</td>\n",
       "      <td>1340</td>\n",
       "    </tr>\n",
       "  </tbody>\n",
       "</table>\n",
       "</div>"
      ],
      "text/plain": [
       "           Name    Rocks  alpha       V      L     H\n",
       "0          Pand   Gneiss    NaN     6.7   8600  2000\n",
       "1       Twin(E)   Carbon   25.0     7.0   4670   900\n",
       "2       Twin(W)   Carbon   25.0     7.0   4400   820\n",
       "3        Antron   Gneiss    NaN    12.0   4190  1650\n",
       "4        Huasca   Granio   75.0    13.0  15520  3600\n",
       "5       Sherman     Sand    NaN    13.3   5950  1080\n",
       "6       Triolet  Granite    NaN    18.0   6900  1860\n",
       "7       Steller  Granite   42.5    20.0   6700  1200\n",
       "8         Allen  Granite   50.0    23.0   7700  1300\n",
       "9          Fair  Granite   45.0    26.0  10000  3300\n",
       "10       Schwan  Granite   50.0    27.0   6100  1550\n",
       "11  Devastation     Volc    NaN    27.0   6100  1550\n",
       "12   Diablerets   Carbon    NaN    27.0   6100  1190\n",
       "13       Rubble     Volc   35.0    33.0   6900  1040\n",
       "14       Nozzle   Carbon   27.0    67.0   6420  1050\n",
       "15      Huasca2   Cranio   75.0    75.0  15600  3850\n",
       "16        Dusty     Volc   30.0     7.0   2490   970\n",
       "17          Elm    Slate   50.0    10.0   2300   600\n",
       "18        Sasso     Volc   60.0    16.0   1680   370\n",
       "19        Dnnov   Gneiss   35.0    18.5   1560   410\n",
       "20     Damocles   Carbon   17.0    27.0   3400   500\n",
       "21      Mystery  Diorite   30.0    35.0   4000  1250\n",
       "22       Goldau  Conglom   20.0    35.0   6100  1120\n",
       "23        Frank   Carbon   45.0    36.5   3290   800\n",
       "24       Ventre     Sand   20.0    38.0   4350   660\n",
       "25        Stalk  Clastic   30.0    53.0   3000   700\n",
       "26       Lavini   Carbon   20.0   200.0   5650  1170\n",
       "27      Granier   Carbon   12.0   210.0   7690  1520\n",
       "28       Silver   Marble    NaN   227.0   6670   760\n",
       "29    Blackhawk   Marble    NaN   283.0   9860  1100\n",
       "30     Martinez   Gneiss   30.0   380.0   8560  1850\n",
       "31      Maligne   Carbon   25.0   667.0   5470   980\n",
       "32   Mayunmarca     Sand   25.0  1600.0   8000  1800\n",
       "33   Costantino   Gneiss   25.0    20.0   2240   940\n",
       "34      Madison   Gneiss   30.0    28.0   1680   430\n",
       "35     Zandilla  Diorite   35.0    40.0   3950  1390\n",
       "36         Hope     Volc   30.0    47.0   4240  1220\n",
       "37       Triple   Carbon   15.0    47.0   3970   550\n",
       "38       Parpan   Carbon    NaN   400.0   6550  1340"
      ]
     },
     "execution_count": 4,
     "metadata": {},
     "output_type": "execute_result"
    }
   ],
   "source": [
    "## type print(avs) below this line\n",
    "avs"
   ]
  },
  {
   "cell_type": "markdown",
   "metadata": {},
   "source": [
    "Items that you make in Python are called objects. Objects are created by using the equal sign. For example,"
   ]
  },
  {
   "cell_type": "code",
   "execution_count": 5,
   "metadata": {
    "tags": []
   },
   "outputs": [],
   "source": [
    "a = 5 "
   ]
  },
  {
   "cell_type": "markdown",
   "metadata": {},
   "source": [
    "makes an object called 'a' and assigns the value 5 to it.  Unlike most western languages, computers read from right to left. For example, the expression 'a = 5+1' adds 5+1 and assigns the result to an object called 'a'. What happens if you type '5+1 = a' below?\n"
   ]
  },
  {
   "cell_type": "code",
   "execution_count": null,
   "metadata": {
    "tags": []
   },
   "outputs": [],
   "source": []
  },
  {
   "cell_type": "markdown",
   "metadata": {},
   "source": [
    "An error is generated since you are trying to assign a variable to a number. The value of 'a' is now an object in Python's memory. Objects in Python are many but the most important are:\n",
    "\n",
    "Data type |  | Example\n",
    "--- | --- | ---\n",
    "Boolean | | **True or False** \n",
    "Numbers | |\n",
    "| integer | a = 1\n",
    "| float | pi = 3.14159\n",
    "| complex | z = 3j\n",
    "String | | slide_type = 'rotational'\n",
    "Lists | | data = [1,2,3,4]\n",
    "| mixed | data2 = ['a', 5, 'jelly']\n",
    "Arrays | | data3 = np.array([[1,2,3],[4,5,6]])\n",
    "\n",
    "There are many more data types than these, but these types will be used throughout the remainder of the tutorial. Operations in Python, like most programming languages, depend on the type of data you are using and what is is you seek to do. As an example let's make an object called 'ppt' which is the total daily rain [mm] recorded for a station over a number of days. We can now do a number of things to this object"
   ]
  },
  {
   "cell_type": "code",
   "execution_count": 6,
   "metadata": {
    "collapsed": false,
    "jupyter": {
     "outputs_hidden": false
    }
   },
   "outputs": [],
   "source": [
    "ppt = np.array([0, 23.4, 45, 17, 2])"
   ]
  },
  {
   "cell_type": "markdown",
   "metadata": {},
   "source": [
    "What happens when you type 'ppt + 5' in the line below?"
   ]
  },
  {
   "cell_type": "code",
   "execution_count": 7,
   "metadata": {
    "collapsed": false,
    "jupyter": {
     "outputs_hidden": false
    }
   },
   "outputs": [],
   "source": [
    "newppt = ppt * 2.0 \n",
    "\n",
    "## hello this is a note to myself the doofus\n"
   ]
  },
  {
   "cell_type": "markdown",
   "metadata": {},
   "source": [
    "Notice that Python didn't save this object you just made. In order to do that you'd need to assign the result ( ppt = ppt + 5).\n",
    "\n",
    "We can change the first element in the array from zero to 50 by 'ppt[0] = 50'. You can also find the average or standard deviation of the array this way:\n",
    "\n",
    "'ppt.avg()' or ppt.std(). what does 'ppt.cumsum()' do?"
   ]
  },
  {
   "cell_type": "code",
   "execution_count": 15,
   "metadata": {
    "collapsed": false,
    "jupyter": {
     "outputs_hidden": false
    }
   },
   "outputs": [
    {
     "name": "stdout",
     "output_type": "stream",
     "text": [
      "The average ppt is 17.48\n",
      "The standard deviation is 16.3573\n"
     ]
    },
    {
     "data": {
      "text/plain": [
       "array([ 0. , 23.4, 68.4, 85.4, 87.4])"
      ]
     },
     "execution_count": 15,
     "metadata": {},
     "output_type": "execute_result"
    }
   ],
   "source": [
    "print('The average ppt is', ppt.mean())\n",
    "\n",
    "## Can you figure out what np.round does?\n",
    "\n",
    "print('The standard deviation is', np.round(ppt.std(), 4))\n",
    "ppt.cumsum()"
   ]
  },
  {
   "cell_type": "markdown",
   "metadata": {},
   "source": [
    "Computers are dumb machines. They are literal and don't deal with typographic erorrs. For example, if you create an object called 'stress'\n"
   ]
  },
  {
   "cell_type": "code",
   "execution_count": 21,
   "metadata": {},
   "outputs": [
    {
     "data": {
      "text/plain": [
       "1789"
      ]
     },
     "execution_count": 21,
     "metadata": {},
     "output_type": "execute_result"
    }
   ],
   "source": [
    "stress = 789  \n",
    "stress = stress + 1000  ## yields a value of 1789 while \n",
    "stress"
   ]
  },
  {
   "cell_type": "markdown",
   "metadata": {},
   "source": [
    "But note that, "
   ]
  },
  {
   "cell_type": "code",
   "execution_count": 8,
   "metadata": {},
   "outputs": [
    {
     "ename": "NameError",
     "evalue": "name 'Stress' is not defined",
     "output_type": "error",
     "traceback": [
      "\u001b[0;31m---------------------------------------------------------------------------\u001b[0m",
      "\u001b[0;31mNameError\u001b[0m                                 Traceback (most recent call last)",
      "\u001b[0;32m/tmp/ipykernel_2496/3539320622.py\u001b[0m in \u001b[0;36m<module>\u001b[0;34m\u001b[0m\n\u001b[0;32m----> 1\u001b[0;31m \u001b[0mstress\u001b[0m \u001b[0;34m=\u001b[0m \u001b[0mStress\u001b[0m \u001b[0;34m+\u001b[0m \u001b[0;36m1000\u001b[0m  \u001b[0;31m## yields an error  'not defined'\u001b[0m\u001b[0;34m\u001b[0m\u001b[0;34m\u001b[0m\u001b[0m\n\u001b[0m",
      "\u001b[0;31mNameError\u001b[0m: name 'Stress' is not defined"
     ]
    }
   ],
   "source": [
    "stress = Stress + 1000  ## yields an error  'not defined'"
   ]
  },
  {
   "cell_type": "markdown",
   "metadata": {
    "jupyter": {
     "outputs_hidden": false
    }
   },
   "source": [
    "Let's return to our rock avalanche dataset and do some analysis on those data. First, let's summarize the variables described earlier. type 'avs.describe() in the cell below and see what happens.\n"
   ]
  },
  {
   "cell_type": "code",
   "execution_count": 26,
   "metadata": {},
   "outputs": [],
   "source": [
    "## type 'avs.describe()' below this comment\n"
   ]
  },
  {
   "cell_type": "markdown",
   "metadata": {},
   "source": [
    "One of Python's real strengths is its ability to make simple and fairly complex graphs. Many of these graphs can be made directly from Pandas data frame objects (our object 'avs' is one) or from the excellent package 'Matplotlib'. Spend some time looking at the types of graphs you can make with Matplotlib and Python by visiting the [Matplotlib Gallery](http://matplotlib.org/gallery.html).\n",
    "\n",
    "Another package that we'll use thoughout this course is called numpy. It allows one to do complex numerial analysis.\n",
    "\n",
    "* [Follow me](http://www.scipy-lectures.org/) for lecture notes about how to use numpy and Python for general scientific computing.  \n",
    "\n",
    "Let's examine whether the landslide sample we are working with is normally distributed ? One way to check this would be to make a simple histogram.\n"
   ]
  },
  {
   "cell_type": "code",
   "execution_count": 8,
   "metadata": {
    "collapsed": false,
    "jupyter": {
     "outputs_hidden": false
    }
   },
   "outputs": [
    {
     "data": {
      "image/png": "[encoded data removed]",
      "text/plain": [
       "<Figure size 432x288 with 1 Axes>"
      ]
     },
     "metadata": {
      "needs_background": "light"
     },
     "output_type": "display_data"
    }
   ],
   "source": [
    "## we first set up a figure with Matplotlib and then make a histogram \n",
    "## by calling a special function for this in pandas. \n",
    "plt.figure()\n",
    "avs['V'].hist(bins=5)\n",
    "plt.title('Histogram of Landslide Volume')\n",
    "plt.xlabel('Volume [1.0 x 10$^{6}$ m$^{3}$]')\n",
    "plt.ylabel('Frequency')\n",
    "## we can save this figure in a number of different formats. I've\n",
    "## chosen to save it as as pdf file.\n",
    "plt.savefig('hist_example.pdf', dpi=600)\n",
    "plt.show()"
   ]
  },
  {
   "cell_type": "markdown",
   "metadata": {},
   "source": [
    "Are these data normally  distributed (i.e. bell-shaped histogram) ? Let's see what a normal distribution would look like. "
   ]
  },
  {
   "cell_type": "code",
   "execution_count": 40,
   "metadata": {
    "collapsed": false,
    "jupyter": {
     "outputs_hidden": false
    }
   },
   "outputs": [
    {
     "data": {
      "image/png": "[encoded data removed]",
      "text/plain": [
       "<Figure size 432x288 with 1 Axes>"
      ]
     },
     "metadata": {
      "needs_background": "light"
     },
     "output_type": "display_data"
    },
    {
     "data": {
      "image/png": "[encoded data removed]",
      "text/plain": [
       "<Figure size 432x288 with 1 Axes>"
      ]
     },
     "metadata": {
      "needs_background": "light"
     },
     "output_type": "display_data"
    }
   ],
   "source": [
    "## sample size\n",
    "n = 10000\n",
    "\n",
    "plt.figure()\n",
    "\n",
    "## sample landslide volume using replacement \n",
    "data = np.random.choice(avs['V'], size = n, replace=True)\n",
    "plt.hist(data, bins=5, color='purple')\n",
    "plt.title('Normal distribution')\n",
    "\n",
    "#plt.xlabel('Volume [1.0 x 10$^{6}$ m$^{3}$]')\n",
    "plt.ylabel('Frequency')\n",
    "\n",
    "#plt.savefig('hist_example2.pdf', resolution=600)\n",
    "plt.show()\n",
    "\n",
    "plt.figure()\n",
    "## make an array of random values (mean and std equal to our own data)\n",
    "data = np.random.normal(avs['V'].mean(), avs['V'].std(), n)\n",
    "plt.hist(data, bins=50, color='green')\n",
    "plt.title('Normal distribution')\n",
    "plt.ylabel('Frequency')\n",
    "#plt.savefig('hist_example2.pdf', resolution=600)\n",
    "plt.show()\n"
   ]
  },
  {
   "cell_type": "markdown",
   "metadata": {},
   "source": [
    "Don't worry about x values for this graph but rather in its shape. What is clear is that our landslide data is heavily skewed fewer larger landslides. Many geophysical phenomena are log normally distributed. We can see this if we log transform our data like this."
   ]
  },
  {
   "cell_type": "code",
   "execution_count": 48,
   "metadata": {
    "collapsed": false,
    "jupyter": {
     "outputs_hidden": false
    }
   },
   "outputs": [
    {
     "data": {
      "image/png": "[encoded data removed]",
      "text/plain": [
       "<Figure size 432x288 with 1 Axes>"
      ]
     },
     "metadata": {
      "needs_background": "light"
     },
     "output_type": "display_data"
    },
    {
     "data": {
      "image/png": "[encoded data removed]",
      "text/plain": [
       "<Figure size 432x288 with 1 Axes>"
      ]
     },
     "metadata": {
      "needs_background": "light"
     },
     "output_type": "display_data"
    }
   ],
   "source": [
    "log_vol  = np.log(avs['V'])\n",
    "plt.figure()\n",
    "plt.hist(log_vol, bins = 5)\n",
    "plt.title('Histogram of Landslide Volume')\n",
    "plt.xlabel('Logged volume [1.0 x 10$^{6}$ m$^{3}$]')\n",
    "plt.ylabel('Frequency')\n",
    "plt.savefig('hist_example_logged.pdf', dpi=600)\n",
    "plt.show()\n",
    "\n",
    "## you can also log data in a graph without making a new variable\n",
    "fig = plt.figure()\n",
    "ax = fig.add_subplot(1, 1, 1)\n",
    "plt.hist(log_vol, bins = 5)\n",
    "ax.set_xscale('log')\n",
    "plt.title('Histogram of Landslide Volume')\n",
    "plt.xlabel('Logged volume [1.0 x 10$^{6}$ m$^{3}$]')\n",
    "plt.ylabel('Frequency')\n",
    "plt.savefig('hist_example_logged_graph.pdf', dpi=600)\n",
    "plt.show()\n"
   ]
  },
  {
   "cell_type": "markdown",
   "metadata": {},
   "source": [
    "## Linear Models in Python \n",
    "\n",
    "A linear relation implies that functional relation between two variables \n",
    "can be explained as a simple proportion. That is variable y is related \n",
    "to x multiplied by a constant (slope) plus an additional second constant \n",
    "(the y intercept).\n",
    "\n",
    "\\begin{equation} \n",
    "y = \\beta~x+\\textbf{const}\n",
    "\\end{equation} \n",
    "\n",
    "Is there a linear relation between landslide run out length and height?"
   ]
  },
  {
   "cell_type": "code",
   "execution_count": 63,
   "metadata": {
    "collapsed": false,
    "jupyter": {
     "outputs_hidden": false
    }
   },
   "outputs": [
    {
     "data": {
      "image/png": "[encoded data removed]",
      "text/plain": [
       "<Figure size 432x288 with 1 Axes>"
      ]
     },
     "metadata": {
      "needs_background": "light"
     },
     "output_type": "display_data"
    }
   ],
   "source": [
    "plt.figure()\n",
    "plt.plot(avs['L'], avs['H'], 'b+')\n",
    "plt.title('Landslide run out length versus fall height')\n",
    "plt.xlabel('Length [m]')\n",
    "plt.ylabel('Height [m]')\n",
    "plt.savefig('Landslide_H_L_example.pdf', dpi=600)\n",
    "plt.show()"
   ]
  },
  {
   "cell_type": "markdown",
   "metadata": {},
   "source": [
    "What is the strength of the relation (Pearson correlation coefficient)? We will import a function 'pearsonr' from the module scipy stats to test this. Also, we'll import another Python module 'statmodel'. Details about what this module can do can be found [here](http://statsmodels.sourceforge.net/)."
   ]
  },
  {
   "cell_type": "code",
   "execution_count": 50,
   "metadata": {
    "collapsed": false,
    "jupyter": {
     "outputs_hidden": false
    }
   },
   "outputs": [
    {
     "data": {
      "text/plain": [
       "(0.8701850478388151, 6.282925530515312e-13)"
      ]
     },
     "execution_count": 50,
     "metadata": {},
     "output_type": "execute_result"
    }
   ],
   "source": [
    "from scipy.stats import pearsonr\n",
    "import statsmodels.api as sm\n",
    "## and now let's calculate the correlation \n",
    "pearsonr(avs['L'], avs['H'])"
   ]
  },
  {
   "cell_type": "markdown",
   "metadata": {},
   "source": [
    "So landslide length and fall height are strongly correlated (r=0.87) and the correlation is highly significant (p < 0.05). \n",
    "\n",
    "Let's now consider developing a simple model to explain the loss of potential energy ($PE=mgH$) for a given landslide. Landslide mass (kg) could be determined if we know the bulk density of the deposit (kg$\\cdot$m$^{-3}$) and the volume (m$^{3}$). We also need to determine the vertical distance drop (H) of the landslide. For many  landslides we can not determine H, but if there was an empirical relation between  landslide length (L) and height (H), perhaps we could simply measure L and derive H from the empirical (statistical) model. \n",
    "\n",
    "We first need to determine the relation between landslide length and height:\n",
    "\n",
    "\\begin{equation}\n",
    "H = L \\cdot \\beta + \\textbf{const}\n",
    "\\end{equation}\n",
    " \n",
    "where $\\beta$ is the slope and **const** is the y-intercept."
   ]
  },
  {
   "cell_type": "code",
   "execution_count": 64,
   "metadata": {
    "collapsed": false,
    "jupyter": {
     "outputs_hidden": false
    }
   },
   "outputs": [
    {
     "name": "stdout",
     "output_type": "stream",
     "text": [
      "                            OLS Regression Results                            \n",
      "==============================================================================\n",
      "Dep. Variable:                      H   R-squared:                       0.757\n",
      "Model:                            OLS   Adj. R-squared:                  0.751\n",
      "Method:                 Least Squares   F-statistic:                     115.4\n",
      "Date:                Thu, 30 Dec 2021   Prob (F-statistic):           6.28e-13\n",
      "Time:                        15:44:23   Log-Likelihood:                -287.59\n",
      "No. Observations:                  39   AIC:                             579.2\n",
      "Df Residuals:                      37   BIC:                             582.5\n",
      "Df Model:                           1                                         \n",
      "Covariance Type:            nonrobust                                         \n",
      "==============================================================================\n",
      "                 coef    std err          t      P>|t|      [0.025      0.975]\n",
      "------------------------------------------------------------------------------\n",
      "const         21.8389    134.129      0.163      0.872    -249.932     293.610\n",
      "L              0.2167      0.020     10.743      0.000       0.176       0.258\n",
      "==============================================================================\n",
      "Omnibus:                        3.371   Durbin-Watson:                   1.702\n",
      "Prob(Omnibus):                  0.185   Jarque-Bera (JB):                2.604\n",
      "Skew:                           0.158   Prob(JB):                        0.272\n",
      "Kurtosis:                       4.226   Cond. No.                     1.41e+04\n",
      "==============================================================================\n",
      "\n",
      "Notes:\n",
      "[1] Standard Errors assume that the covariance matrix of the errors is correctly specified.\n",
      "[2] The condition number is large, 1.41e+04. This might indicate that there are\n",
      "strong multicollinearity or other numerical problems.\n"
     ]
    },
    {
     "name": "stderr",
     "output_type": "stream",
     "text": [
      "C:\\Users\\menounos\\Anaconda3\\lib\\site-packages\\statsmodels\\tsa\\tsatools.py:142: FutureWarning: In a future version of pandas all arguments of concat except for the argument 'objs' will be keyword-only\n",
      "  x = pd.concat(x[::order], 1)\n"
     ]
    }
   ],
   "source": [
    "X = avs['L']\n",
    "## we need to add a second column of ones to add a constant to our model\n",
    "X = sm.add_constant(X)\n",
    "model = sm.OLS(avs['H'], X)\n",
    "results = model.fit()\n",
    "resid = results.resid\n",
    "print(results.summary())\n"
   ]
  },
  {
   "cell_type": "markdown",
   "metadata": {},
   "source": [
    "The fit is ok but not perfect. We can also examine the residuals from our model, that is, the deviations between our empirical data and model fitted to them. A good model is one in which there are no obvious patterns in the residuals. How does our model do? "
   ]
  },
  {
   "cell_type": "code",
   "execution_count": 65,
   "metadata": {
    "collapsed": false,
    "jupyter": {
     "outputs_hidden": false
    }
   },
   "outputs": [
    {
     "data": {
      "image/png": "[encoded data removed]",
      "text/plain": [
       "<Figure size 432x288 with 1 Axes>"
      ]
     },
     "metadata": {
      "needs_background": "light"
     },
     "output_type": "display_data"
    }
   ],
   "source": [
    "plt.figure()\n",
    "plt.plot(resid, 'g+')\n",
    "plt.xlabel('Index')\n",
    "plt.ylabel('Redidual from fit')\n",
    "\n",
    "plt.show()"
   ]
  },
  {
   "cell_type": "markdown",
   "metadata": {},
   "source": [
    "## 5. Assignment (due next Wednesday, 19 January) \n",
    "\n",
    "### 5.1 Landslide data from Mars (10 points)\n",
    "\n",
    "Consider the morphometric characteristics of shallow landslides from Mars ('Valles\\_marineris.txt'). The data consists of mean fall height of the material (H: km), the ratio of height to runout length (L: km), volume (V: km$^{3}$), area (A: km$^{2}$), depth of the deposit at its toe (D: m), and slope (S: degrees):\n",
    "\n",
    "1. Which variable is the best predictor (i.e. most highly correlated with landslide volume? Are these variables linearly or non-linearly related? Does the relation become better if you take the logarithms (log10() ) of the variables? \n",
    "\n",
    "  **note:** explore what the function 'corr' does when used on a pandas frame (e.g.       avs.corr())\n",
    "  \n",
    "\n",
    "2. Using the log-transformed variables, develop a linear model to predict landslide volume from area.  Use your model to estimate the volume of a landslide that is 10,000 km$^{2}$ in area. \n",
    "\n",
    "3. Discuss the difference between extrapolation and interpolation. Discuss how these terms relate to the data of question 1."
   ]
  },
  {
   "cell_type": "markdown",
   "metadata": {},
   "source": [
    "### 5.2 Friction Angle and Large Rock Avalanches (20 Points)\n",
    " \n",
    "Geomorphologists have often been puzzled at the extremely long run out associated  with large ($> 1.0^{6}~~m^{3}$) rock avalanches. One hypothesis    proposes that the frictional resistance - approximated by the angle of internal friction ($\\phi$) decreases for large volume landslides. \n",
    "\n",
    "Python, like most computer languages, works in radians. To obtain the sine of 45 $^{\\circ}$ one multiplies 45 by $\\frac{pi}{180}$. To express a ratio (e.g. a slope) in degrees one needs take the arctangent of the number (e.g. $atan(\\frac{1}{2})$) and multiply this by $\\frac{180}{pi}$\n",
    "\n",
    "$\\phi$ is approximated by the ratio between the elevation drop of a landslide (its height) and the horizontal distance travelled (i.e. its length).  \n",
    "\n",
    "1. Determine whether the rock avalanche data that you used for the tutorial supports this  \n",
    "hypothesis. Express $\\phi$ in degrees and log both Volume and $\\phi$. \n",
    " \n",
    "2. Do the data from Mars support the hypothesis?\n",
    " \n",
    "3. What is the average length of a martian landslide?\n",
    "\n",
    "4. What is the average yield strength of a martian landslide? \n",
    "    - **Note**: Yield strength [K] can be approximated from K = [$\\rho\\cdot D \\cdot g \\cdot \\sin \\beta$] where $\\rho$ is the density of martian colluvium (2000 $kg \\cdot m^{-3}$), g is the acceleration due to gravity (3.72 $m \\cdot s^{-2}$ for Mars), D is the deposit thickness (m), and $\\beta$ is the ground slope. Ensure you provide the correct units for yield strength (i.e. what are the units for K?).  \n",
    "\n",
    "You may wish to display your data as log-log plots. Have a look [here](http://matplotlib.org/examples/pylab_examples/log_demo.html) for how to make a log-log plot in Python.\n",
    "\n",
    "\n",
    "### 5.3 Causative factors of global landslides (20 points)\n",
    "\n",
    "As we will learn landslides are a type of rapid-mass movement that can originate from a variety of causative factors. Let's consider the global distribution of land where the risk of landslides is high. Those data and publications that describe that work can be found [here](http://sedac.ciesin.columbia.edu/data/set/ndh-landslide-hazard-distribution). \n",
    "\n",
    "Here's a copy of the [hazard map](https://github.com/bmenounos/geog311_lab1/blob/master/landslide_hazards.png)\n",
    "\n",
    "Let's explore whether there's an association between landslide hazard and terrain features such as elevation and precipitation. To do this we'll need to work with several types of data files that are used to store geospatial data and multidimensional data. We'll discuss more about those files later in the course. \n",
    "\n",
    "Let's now import digital elevation data and the maximum 1 day precipitation recorded globally for preciptation gauges and satellite observations between 1996-2009 described here. In this case we need to import a different type of file that is commonly used in environmental and earth sciences to store multi-dimensional data (such as pressure data from a climate model). Those types of files are known as NetCDF files and described here.\n",
    "\n",
    "The nice thing about these types of files is that, in addition to storing multi-dimensional data, they can also store information about the units associated with the data, attributes about the data themselves and also record changes to the data themselves.\n"
   ]
  },
  {
   "cell_type": "code",
   "execution_count": 53,
   "metadata": {
    "collapsed": false,
    "jupyter": {
     "outputs_hidden": false
    }
   },
   "outputs": [
    {
     "data": {
      "image/png": "[encoded data removed]",
      "text/plain": [
       "<Figure size 432x288 with 2 Axes>"
      ]
     },
     "metadata": {
      "needs_background": "light"
     },
     "output_type": "display_data"
    },
    {
     "data": {
      "image/png": "[encoded data removed]",
      "text/plain": [
       "<Figure size 432x288 with 2 Axes>"
      ]
     },
     "metadata": {
      "needs_background": "light"
     },
     "output_type": "display_data"
    }
   ],
   "source": [
    "## need to load a Python module to deal with netcdf data\n",
    "## don't worry about trying to learn everything below. \n",
    "## I'm putting alot in here to peak your \n",
    "## interest in what one can do with these types of files. \n",
    "\n",
    "## import the netcdf module \n",
    "from netCDF4 import Dataset\n",
    "\n",
    "## allows us to customize the scale bar \n",
    "from mpl_toolkits.axes_grid1 import make_axes_locatable\n",
    "\n",
    "\n",
    "## now let's load global elevation on a 1 degree grid and 1-day maximum precipitation\n",
    "f_in  = 'elev.1-deg.nc'    # elevation data\n",
    "f_in2 = 'GPCP_max_1day.nc' # 1 day ppt\n",
    "f_in3 = 'landslide_hazards.nc' #landslide hazards\n",
    "\n",
    "## read in elevation data\n",
    "data    = Dataset(f_in)\n",
    "elev    = data['data'][:].squeeze() * 1.0 ## collapse into a single 2d array\n",
    "\n",
    "## we won't use these for the lab today. \n",
    "lons    = data['lon']\n",
    "lats    = data['lat']\n",
    "\n",
    "## read in 1-day ppt\n",
    "data2   = Dataset(f_in2)\n",
    "ppt1day = data2['highest_one_day_precipitation_amount_per_time_period'][:].squeeze()\n",
    "\n",
    "## read in landslide datwa\n",
    "data3    = Dataset(f_in3)\n",
    "lhazard  = data3['Band1'][:].squeeze()\n",
    "\n",
    "## lslide data is upside down and needs to be flipped \n",
    "lhazard  = np.flipud(lhazard)\n",
    "\n",
    "\n",
    "## make a plot of elevation\n",
    "plt.figure()\n",
    "ax = plt.gca()\n",
    "im = ax.imshow(elev, extent=[-180,180,-90,90])\n",
    "plt.xlabel('Degrees longitude')\n",
    "plt.ylabel('Degrees Latitude')\n",
    "\n",
    "# create an axes on the right side of ax. The width of cax will be 5%\n",
    "# of ax and the padding between cax and ax will be fixed at 0.05 inch.\n",
    "divider = make_axes_locatable(ax)\n",
    "cax = divider.append_axes(\"right\", size=\"5%\", pad=0.05)\n",
    "plt.colorbar(im, cax=cax, label='Elevation [m asl]')\n",
    "plt.show()\n",
    "\n",
    "\n",
    "## make a plot of hazards\n",
    "## this uses the matplotlib function 'imshow'\n",
    "plt.figure()\n",
    "ax = plt.gca()\n",
    "im = ax.imshow(lhazard, extent=[-180,180,-90,90])\n",
    "plt.xlabel('Degrees longitude')\n",
    "plt.ylabel('Degrees Latitude')\n",
    "\n",
    "# create an axes on the right side of ax. The width of cax will be 5%\n",
    "# of ax and the padding between cax and ax will be fixed at 0.05 inch.\n",
    "divider = make_axes_locatable(ax)\n",
    "cax = divider.append_axes(\"right\", size=\"5%\", pad=0.05)\n",
    "plt.colorbar(im, cax=cax, label='landslide hazard')\n",
    "plt.show()\n",
    "\n"
   ]
  },
  {
   "cell_type": "code",
   "execution_count": 56,
   "metadata": {
    "collapsed": false,
    "jupyter": {
     "outputs_hidden": false
    },
    "scrolled": true
   },
   "outputs": [
    {
     "name": "stdout",
     "output_type": "stream",
     "text": [
      "             ppt    elev  hazard\n",
      "13783  37.500000   900.0     7.0\n",
      "14182  32.200001   681.0     6.0\n",
      "14542  54.700001   500.0     6.0\n",
      "14783  43.200001  1000.0     6.0\n",
      "15134  54.799999  1000.0     6.0\n"
     ]
    }
   ],
   "source": [
    "## need to change 2D data arrays into 1D (easy by using the ravel command)\n",
    "ppt1D     = ppt1day.ravel()\n",
    "elev1D    = elev.ravel()\n",
    "lhazard1D = lhazard.ravel()\n",
    "\n",
    "\n",
    "## make a pandas data frame\n",
    "df = {'ppt' : ppt1D,\n",
    "     'elev' : elev1D,\n",
    "      'hazard': lhazard1D\n",
    "     }\n",
    "\n",
    "data = pd.DataFrame(df)\n",
    "\n",
    "## drop all missing values row wise\n",
    "data2 = data.dropna(axis=0, how='any')\n",
    "\n",
    "## remove any data over water (i.e. below sea level)\n",
    "data2 = data2[data2['elev'] > 0]\n",
    "\n",
    "\n",
    "\n",
    "print(data2.head())\n",
    "\n"
   ]
  },
  {
   "cell_type": "markdown",
   "metadata": {},
   "source": [
    "**Questions to answer:**\n",
    "\n",
    "1) What is the relation between topography and 1-day precipitation?\n",
    "2) Where are 1-day precipitation totals highest? Why are they here?\n",
    "3) Is topography or 1-day precipitation a better predictor for landslide hazard?\n",
    "4) What other factors could explain the global distribution of land susceptible \n",
    "    to landslides?\n",
    "\n",
    "Be certain to include graphs with properly formatted axes and labels to help support your answers."
   ]
  },
  {
   "cell_type": "code",
   "execution_count": null,
   "metadata": {
    "tags": []
   },
   "outputs": [],
   "source": []
  }
 ],
 "metadata": {
  "kernelspec": {
   "display_name": "Python 3 (ipykernel)",
   "language": "python",
   "name": "python3"
  },
  "language_info": {
   "codemirror_mode": {
    "name": "ipython",
    "version": 3
   },
   "file_extension": ".py",
   "mimetype": "text/x-python",
   "name": "python",
   "nbconvert_exporter": "python",
   "pygments_lexer": "ipython3",
   "version": "3.9.5"
  }
 },
 "nbformat": 4,
 "nbformat_minor": 4
}
